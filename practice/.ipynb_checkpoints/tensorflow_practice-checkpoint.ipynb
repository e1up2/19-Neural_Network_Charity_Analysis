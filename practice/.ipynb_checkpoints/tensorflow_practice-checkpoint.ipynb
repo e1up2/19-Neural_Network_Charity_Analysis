{
 "cells": [
  {
   "cell_type": "code",
   "execution_count": 1,
   "id": "47c6a5fd",
   "metadata": {},
   "outputs": [],
   "source": [
    "# Import our dependencies\n",
    "import pandas as pd\n",
    "import matplotlib as plt\n",
    "from sklearn.datasets import make_blobs\n",
    "import sklearn as skl\n",
    "import tensorflow as tf"
   ]
  },
  {
   "cell_type": "code",
   "execution_count": 2,
   "id": "28291a0c",
   "metadata": {},
   "outputs": [
    {
     "data": {
      "text/plain": [
       "<AxesSubplot:xlabel='Feature 1', ylabel='Feature 2'>"
      ]
     },
     "execution_count": 2,
     "metadata": {},
     "output_type": "execute_result"
    },
    {
     "data": {
      "image/png": "[encoded data removed]",
      "text/plain": [
       "<Figure size 432x288 with 2 Axes>"
      ]
     },
     "metadata": {
      "needs_background": "light"
     },
     "output_type": "display_data"
    }
   ],
   "source": [
    "# Generate dummy dataset\n",
    "X, y = make_blobs(n_samples=1000, centers=2, n_features=2, random_state=78)\n",
    "\n",
    "# Creating a DataFrame with the dummy data\n",
    "df = pd.DataFrame(X, columns=[\"Feature 1\", \"Feature 2\"])\n",
    "df[\"Target\"] = y\n",
    "\n",
    "# Plotting the dummy data\n",
    "df.plot.scatter(x=\"Feature 1\", y=\"Feature 2\", c=\"Target\", colormap=\"winter\")"
   ]
  },
  {
   "cell_type": "code",
   "execution_count": 3,
   "id": "056df36d",
   "metadata": {},
   "outputs": [],
   "source": [
    "# Use sklearn to split dataset\n",
    "from sklearn.model_selection import train_test_split\n",
    "X_train, X_test, y_train, y_test = train_test_split(X, y, random_state=78)"
   ]
  },
  {
   "cell_type": "code",
   "execution_count": 4,
   "id": "2543c917",
   "metadata": {},
   "outputs": [],
   "source": [
    "# Create scaler instance\n",
    "X_scaler = skl.preprocessing.StandardScaler()\n",
    "\n",
    "# Fit the scaler\n",
    "X_scaler.fit(X_train)\n",
    "\n",
    "# Scale the data\n",
    "X_train_scaled = X_scaler.transform(X_train)\n",
    "X_test_scaled = X_scaler.transform(X_test)"
   ]
  },
  {
   "cell_type": "code",
   "execution_count": 5,
   "id": "3cd84f0e",
   "metadata": {},
   "outputs": [
    {
     "name": "stderr",
     "output_type": "stream",
     "text": [
      "2022-02-02 16:20:03.915410: I tensorflow/core/platform/cpu_feature_guard.cc:151] This TensorFlow binary is optimized with oneAPI Deep Neural Network Library (oneDNN) to use the following CPU instructions in performance-critical operations:  AVX2 FMA\n",
      "To enable them in other operations, rebuild TensorFlow with the appropriate compiler flags.\n"
     ]
    }
   ],
   "source": [
    "# Create the Keras Sequential model\n",
    "nn_model = tf.keras.models.Sequential()"
   ]
  },
  {
   "cell_type": "code",
   "execution_count": 6,
   "id": "ece18827",
   "metadata": {},
   "outputs": [],
   "source": [
    "# Add our first Dense layer, including the input layer\n",
    "nn_model.add(tf.keras.layers.Dense(units=1, activation=\"relu\", input_dim=2))"
   ]
  },
  {
   "cell_type": "code",
   "execution_count": 7,
   "id": "a2aff2e4",
   "metadata": {},
   "outputs": [],
   "source": [
    "# Add the output layer that uses a probability activation function\n",
    "nn_model.add(tf.keras.layers.Dense(units=1, activation=\"sigmoid\"))"
   ]
  },
  {
   "cell_type": "code",
   "execution_count": 8,
   "id": "1694e871",
   "metadata": {},
   "outputs": [
    {
     "name": "stdout",
     "output_type": "stream",
     "text": [
      "Model: \"sequential\"\n",
      "_________________________________________________________________\n",
      " Layer (type)                Output Shape              Param #   \n",
      "=================================================================\n",
      " dense (Dense)               (None, 1)                 3         \n",
      "                                                                 \n",
      " dense_1 (Dense)             (None, 1)                 2         \n",
      "                                                                 \n",
      "=================================================================\n",
      "Total params: 5\n",
      "Trainable params: 5\n",
      "Non-trainable params: 0\n",
      "_________________________________________________________________\n"
     ]
    }
   ],
   "source": [
    "# Check the structure of the Sequential model\n",
    "nn_model.summary()"
   ]
  },
  {
   "cell_type": "code",
   "execution_count": 9,
   "id": "5b15cfe3",
   "metadata": {},
   "outputs": [],
   "source": [
    "# Compile the Sequential model together and customize metrics\n",
    "nn_model.compile(loss=\"binary_crossentropy\", optimizer=\"adam\", metrics=[\"accuracy\"])"
   ]
  },
  {
   "cell_type": "code",
   "execution_count": 10,
   "id": "31420d39",
   "metadata": {},
   "outputs": [
    {
     "name": "stdout",
     "output_type": "stream",
     "text": [
      "Epoch 1/100\n",
      "24/24 [==============================] - 0s 854us/step - loss: 0.6938 - accuracy: 0.4893\n",
      "Epoch 2/100\n",
      "24/24 [==============================] - 0s 739us/step - loss: 0.6922 - accuracy: 0.5280\n",
      "Epoch 3/100\n",
      "24/24 [==============================] - 0s 735us/step - loss: 0.6907 - accuracy: 0.5587\n",
      "Epoch 4/100\n",
      "24/24 [==============================] - 0s 715us/step - loss: 0.6885 - accuracy: 0.6013\n",
      "Epoch 5/100\n",
      "24/24 [==============================] - 0s 732us/step - loss: 0.6856 - accuracy: 0.6307\n",
      "Epoch 6/100\n",
      "24/24 [==============================] - 0s 723us/step - loss: 0.6816 - accuracy: 0.6667\n",
      "Epoch 7/100\n",
      "24/24 [==============================] - 0s 745us/step - loss: 0.6761 - accuracy: 0.6907\n",
      "Epoch 8/100\n",
      "24/24 [==============================] - 0s 740us/step - loss: 0.6692 - accuracy: 0.7320\n",
      "Epoch 9/100\n",
      "24/24 [==============================] - 0s 756us/step - loss: 0.6604 - accuracy: 0.7613\n",
      "Epoch 10/100\n",
      "24/24 [==============================] - 0s 732us/step - loss: 0.6502 - accuracy: 0.7813\n",
      "Epoch 11/100\n",
      "24/24 [==============================] - 0s 712us/step - loss: 0.6383 - accuracy: 0.7987\n",
      "Epoch 12/100\n",
      "24/24 [==============================] - 0s 734us/step - loss: 0.6253 - accuracy: 0.8213\n",
      "Epoch 13/100\n",
      "24/24 [==============================] - 0s 723us/step - loss: 0.6114 - accuracy: 0.8373\n",
      "Epoch 14/100\n",
      "24/24 [==============================] - 0s 738us/step - loss: 0.5968 - accuracy: 0.8520\n",
      "Epoch 15/100\n",
      "24/24 [==============================] - 0s 699us/step - loss: 0.5816 - accuracy: 0.8640\n",
      "Epoch 16/100\n",
      "24/24 [==============================] - 0s 718us/step - loss: 0.5664 - accuracy: 0.8760\n",
      "Epoch 17/100\n",
      "24/24 [==============================] - 0s 721us/step - loss: 0.5511 - accuracy: 0.8840\n",
      "Epoch 18/100\n",
      "24/24 [==============================] - 0s 710us/step - loss: 0.5358 - accuracy: 0.8907\n",
      "Epoch 19/100\n",
      "24/24 [==============================] - 0s 702us/step - loss: 0.5206 - accuracy: 0.8973\n",
      "Epoch 20/100\n",
      "24/24 [==============================] - 0s 747us/step - loss: 0.5057 - accuracy: 0.9080\n",
      "Epoch 21/100\n",
      "24/24 [==============================] - 0s 714us/step - loss: 0.4911 - accuracy: 0.9147\n",
      "Epoch 22/100\n",
      "24/24 [==============================] - 0s 731us/step - loss: 0.4769 - accuracy: 0.9227\n",
      "Epoch 23/100\n",
      "24/24 [==============================] - 0s 711us/step - loss: 0.4631 - accuracy: 0.9293\n",
      "Epoch 24/100\n",
      "24/24 [==============================] - 0s 736us/step - loss: 0.4498 - accuracy: 0.9293\n",
      "Epoch 25/100\n",
      "24/24 [==============================] - 0s 740us/step - loss: 0.4369 - accuracy: 0.9333\n",
      "Epoch 26/100\n",
      "24/24 [==============================] - 0s 703us/step - loss: 0.4245 - accuracy: 0.9360\n",
      "Epoch 27/100\n",
      "24/24 [==============================] - 0s 726us/step - loss: 0.4126 - accuracy: 0.9400\n",
      "Epoch 28/100\n",
      "24/24 [==============================] - 0s 750us/step - loss: 0.4011 - accuracy: 0.9453\n",
      "Epoch 29/100\n",
      "24/24 [==============================] - 0s 750us/step - loss: 0.3901 - accuracy: 0.9507\n",
      "Epoch 30/100\n",
      "24/24 [==============================] - 0s 708us/step - loss: 0.3795 - accuracy: 0.9560\n",
      "Epoch 31/100\n",
      "24/24 [==============================] - 0s 775us/step - loss: 0.3693 - accuracy: 0.9587\n",
      "Epoch 32/100\n",
      "24/24 [==============================] - 0s 789us/step - loss: 0.3595 - accuracy: 0.9613\n",
      "Epoch 33/100\n",
      "24/24 [==============================] - 0s 781us/step - loss: 0.3500 - accuracy: 0.9667\n",
      "Epoch 34/100\n",
      "24/24 [==============================] - 0s 734us/step - loss: 0.3408 - accuracy: 0.9707\n",
      "Epoch 35/100\n",
      "24/24 [==============================] - 0s 740us/step - loss: 0.3320 - accuracy: 0.9720\n",
      "Epoch 36/100\n",
      "24/24 [==============================] - 0s 742us/step - loss: 0.3235 - accuracy: 0.9733\n",
      "Epoch 37/100\n",
      "24/24 [==============================] - 0s 716us/step - loss: 0.3152 - accuracy: 0.9733\n",
      "Epoch 38/100\n",
      "24/24 [==============================] - 0s 717us/step - loss: 0.3073 - accuracy: 0.9733\n",
      "Epoch 39/100\n",
      "24/24 [==============================] - 0s 696us/step - loss: 0.2996 - accuracy: 0.9747\n",
      "Epoch 40/100\n",
      "24/24 [==============================] - 0s 731us/step - loss: 0.2922 - accuracy: 0.9760\n",
      "Epoch 41/100\n",
      "24/24 [==============================] - 0s 716us/step - loss: 0.2850 - accuracy: 0.9773\n",
      "Epoch 42/100\n",
      "24/24 [==============================] - 0s 741us/step - loss: 0.2780 - accuracy: 0.9773\n",
      "Epoch 43/100\n",
      "24/24 [==============================] - 0s 734us/step - loss: 0.2713 - accuracy: 0.9787\n",
      "Epoch 44/100\n",
      "24/24 [==============================] - 0s 736us/step - loss: 0.2648 - accuracy: 0.9787\n",
      "Epoch 45/100\n",
      "24/24 [==============================] - 0s 735us/step - loss: 0.2584 - accuracy: 0.9787\n",
      "Epoch 46/100\n",
      "24/24 [==============================] - 0s 768us/step - loss: 0.2523 - accuracy: 0.9800\n",
      "Epoch 47/100\n",
      "24/24 [==============================] - 0s 718us/step - loss: 0.2464 - accuracy: 0.9827\n",
      "Epoch 48/100\n",
      "24/24 [==============================] - 0s 717us/step - loss: 0.2406 - accuracy: 0.9840\n",
      "Epoch 49/100\n",
      "24/24 [==============================] - 0s 724us/step - loss: 0.2350 - accuracy: 0.9840\n",
      "Epoch 50/100\n",
      "24/24 [==============================] - 0s 716us/step - loss: 0.2296 - accuracy: 0.9840\n",
      "Epoch 51/100\n",
      "24/24 [==============================] - 0s 700us/step - loss: 0.2243 - accuracy: 0.9840\n",
      "Epoch 52/100\n",
      "24/24 [==============================] - 0s 702us/step - loss: 0.2191 - accuracy: 0.9840\n",
      "Epoch 53/100\n",
      "24/24 [==============================] - 0s 727us/step - loss: 0.2141 - accuracy: 0.9853\n",
      "Epoch 54/100\n",
      "24/24 [==============================] - 0s 741us/step - loss: 0.2093 - accuracy: 0.9853\n",
      "Epoch 55/100\n",
      "24/24 [==============================] - 0s 701us/step - loss: 0.2046 - accuracy: 0.9853\n",
      "Epoch 56/100\n",
      "24/24 [==============================] - 0s 693us/step - loss: 0.2000 - accuracy: 0.9853\n",
      "Epoch 57/100\n",
      "24/24 [==============================] - 0s 708us/step - loss: 0.1957 - accuracy: 0.9867\n",
      "Epoch 58/100\n",
      "24/24 [==============================] - 0s 707us/step - loss: 0.1914 - accuracy: 0.9867\n",
      "Epoch 59/100\n",
      "24/24 [==============================] - 0s 705us/step - loss: 0.1872 - accuracy: 0.9867\n",
      "Epoch 60/100\n",
      "24/24 [==============================] - 0s 701us/step - loss: 0.1832 - accuracy: 0.9880\n",
      "Epoch 61/100\n",
      "24/24 [==============================] - 0s 736us/step - loss: 0.1793 - accuracy: 0.9893\n",
      "Epoch 62/100\n",
      "24/24 [==============================] - 0s 723us/step - loss: 0.1755 - accuracy: 0.9907\n",
      "Epoch 63/100\n",
      "24/24 [==============================] - 0s 705us/step - loss: 0.1717 - accuracy: 0.9907\n",
      "Epoch 64/100\n",
      "24/24 [==============================] - 0s 728us/step - loss: 0.1681 - accuracy: 0.9933\n",
      "Epoch 65/100\n",
      "24/24 [==============================] - 0s 725us/step - loss: 0.1646 - accuracy: 0.9933\n",
      "Epoch 66/100\n",
      "24/24 [==============================] - 0s 711us/step - loss: 0.1612 - accuracy: 0.9947\n",
      "Epoch 67/100\n",
      "24/24 [==============================] - 0s 748us/step - loss: 0.1578 - accuracy: 0.9960\n",
      "Epoch 68/100\n",
      "24/24 [==============================] - 0s 708us/step - loss: 0.1546 - accuracy: 0.9960\n",
      "Epoch 69/100\n",
      "24/24 [==============================] - 0s 698us/step - loss: 0.1515 - accuracy: 0.9960\n",
      "Epoch 70/100\n",
      "24/24 [==============================] - 0s 751us/step - loss: 0.1484 - accuracy: 0.9960\n",
      "Epoch 71/100\n",
      "24/24 [==============================] - 0s 705us/step - loss: 0.1454 - accuracy: 0.9960\n",
      "Epoch 72/100\n",
      "24/24 [==============================] - 0s 705us/step - loss: 0.1425 - accuracy: 0.9960\n",
      "Epoch 73/100\n",
      "24/24 [==============================] - 0s 721us/step - loss: 0.1397 - accuracy: 0.9960\n",
      "Epoch 74/100\n",
      "24/24 [==============================] - 0s 907us/step - loss: 0.1369 - accuracy: 0.9960\n",
      "Epoch 75/100\n",
      "24/24 [==============================] - 0s 778us/step - loss: 0.1342 - accuracy: 0.9960\n",
      "Epoch 76/100\n",
      "24/24 [==============================] - 0s 755us/step - loss: 0.1316 - accuracy: 0.9973\n",
      "Epoch 77/100\n",
      "24/24 [==============================] - 0s 700us/step - loss: 0.1291 - accuracy: 0.9973\n",
      "Epoch 78/100\n",
      "24/24 [==============================] - 0s 704us/step - loss: 0.1266 - accuracy: 0.9973\n",
      "Epoch 79/100\n",
      "24/24 [==============================] - 0s 701us/step - loss: 0.1241 - accuracy: 0.9973\n",
      "Epoch 80/100\n",
      "24/24 [==============================] - 0s 706us/step - loss: 0.1218 - accuracy: 0.9973\n",
      "Epoch 81/100\n",
      "24/24 [==============================] - 0s 727us/step - loss: 0.1195 - accuracy: 0.9987\n",
      "Epoch 82/100\n",
      "24/24 [==============================] - 0s 728us/step - loss: 0.1173 - accuracy: 0.9987\n",
      "Epoch 83/100\n",
      "24/24 [==============================] - 0s 718us/step - loss: 0.1150 - accuracy: 0.9987\n",
      "Epoch 84/100\n",
      "24/24 [==============================] - 0s 708us/step - loss: 0.1129 - accuracy: 0.9987\n",
      "Epoch 85/100\n",
      "24/24 [==============================] - 0s 719us/step - loss: 0.1109 - accuracy: 0.9987\n",
      "Epoch 86/100\n",
      "24/24 [==============================] - 0s 763us/step - loss: 0.1088 - accuracy: 0.9987\n",
      "Epoch 87/100\n",
      "24/24 [==============================] - 0s 713us/step - loss: 0.1069 - accuracy: 1.0000\n",
      "Epoch 88/100\n",
      "24/24 [==============================] - 0s 735us/step - loss: 0.1049 - accuracy: 1.0000\n",
      "Epoch 89/100\n",
      "24/24 [==============================] - 0s 723us/step - loss: 0.1031 - accuracy: 1.0000\n",
      "Epoch 90/100\n",
      "24/24 [==============================] - 0s 696us/step - loss: 0.1012 - accuracy: 1.0000\n",
      "Epoch 91/100\n",
      "24/24 [==============================] - 0s 730us/step - loss: 0.0994 - accuracy: 1.0000\n",
      "Epoch 92/100\n",
      "24/24 [==============================] - 0s 726us/step - loss: 0.0977 - accuracy: 1.0000\n",
      "Epoch 93/100\n",
      "24/24 [==============================] - 0s 737us/step - loss: 0.0960 - accuracy: 1.0000\n",
      "Epoch 94/100\n",
      "24/24 [==============================] - 0s 775us/step - loss: 0.0943 - accuracy: 1.0000\n",
      "Epoch 95/100\n",
      "24/24 [==============================] - 0s 736us/step - loss: 0.0927 - accuracy: 1.0000\n",
      "Epoch 96/100\n",
      "24/24 [==============================] - 0s 727us/step - loss: 0.0911 - accuracy: 1.0000\n",
      "Epoch 97/100\n",
      "24/24 [==============================] - 0s 707us/step - loss: 0.0895 - accuracy: 1.0000\n",
      "Epoch 98/100\n",
      "24/24 [==============================] - 0s 682us/step - loss: 0.0880 - accuracy: 1.0000\n",
      "Epoch 99/100\n",
      "24/24 [==============================] - 0s 720us/step - loss: 0.0865 - accuracy: 1.0000\n",
      "Epoch 100/100\n",
      "24/24 [==============================] - 0s 710us/step - loss: 0.0851 - accuracy: 1.0000\n"
     ]
    }
   ],
   "source": [
    "# Fit the model to the training data\n",
    "fit_model = nn_model.fit(X_train_scaled, y_train, epochs=100)"
   ]
  },
  {
   "cell_type": "code",
   "execution_count": 11,
   "id": "0369e45a",
   "metadata": {},
   "outputs": [
    {
     "data": {
      "text/plain": [
       "<AxesSubplot:>"
      ]
     },
     "execution_count": 11,
     "metadata": {},
     "output_type": "execute_result"
    },
    {
     "data": {
      "image/png": "[encoded data removed]",
      "text/plain": [
       "<Figure size 432x288 with 1 Axes>"
      ]
     },
     "metadata": {
      "needs_background": "light"
     },
     "output_type": "display_data"
    }
   ],
   "source": [
    "# Create a DataFrame containing training history\n",
    "history_df = pd.DataFrame(fit_model.history, index=range(1,len(fit_model.history[\"loss\"])+1))\n",
    "\n",
    "# Plot the loss\n",
    "history_df.plot(y=\"loss\")"
   ]
  },
  {
   "cell_type": "code",
   "execution_count": 12,
   "id": "0f77afce",
   "metadata": {},
   "outputs": [
    {
     "data": {
      "text/plain": [
       "<AxesSubplot:>"
      ]
     },
     "execution_count": 12,
     "metadata": {},
     "output_type": "execute_result"
    },
    {
     "data": {
      "image/png": "[encoded data removed]",
      "text/plain": [
       "<Figure size 432x288 with 1 Axes>"
      ]
     },
     "metadata": {
      "needs_background": "light"
     },
     "output_type": "display_data"
    }
   ],
   "source": [
    "# Plot the accuracy\n",
    "history_df.plot(y=\"accuracy\")"
   ]
  },
  {
   "cell_type": "code",
   "execution_count": 13,
   "id": "be835b21",
   "metadata": {},
   "outputs": [
    {
     "name": "stdout",
     "output_type": "stream",
     "text": [
      "8/8 - 0s - loss: 0.0792 - accuracy: 1.0000 - 104ms/epoch - 13ms/step\n",
      "Loss: 0.07916335016489029, Accuracy: 1.0\n"
     ]
    }
   ],
   "source": [
    "# Evaluate the model using the test data\n",
    "model_loss, model_accuracy = nn_model.evaluate(X_test_scaled,y_test,verbose=2)\n",
    "print(f\"Loss: {model_loss}, Accuracy: {model_accuracy}\")"
   ]
  },
  {
   "cell_type": "code",
   "execution_count": 14,
   "id": "4713f289",
   "metadata": {},
   "outputs": [
    {
     "data": {
      "text/plain": [
       "array([[0],\n",
       "       [1],\n",
       "       [0],\n",
       "       [1],\n",
       "       [0],\n",
       "       [0],\n",
       "       [1],\n",
       "       [1],\n",
       "       [1],\n",
       "       [0]], dtype=int32)"
      ]
     },
     "execution_count": 14,
     "metadata": {},
     "output_type": "execute_result"
    }
   ],
   "source": [
    "# Predict the classification of a new set of blob data\n",
    "new_X, new_Y = make_blobs(n_samples=10, centers=2, n_features=2, random_state=78)\n",
    "new_X_scaled = X_scaler.transform(new_X)\n",
    "(nn_model.predict(new_X_scaled) > 0.5).astype(\"int32\")"
   ]
  },
  {
   "cell_type": "code",
   "execution_count": null,
   "id": "d63279fe",
   "metadata": {},
   "outputs": [],
   "source": []
  },
  {
   "cell_type": "code",
   "execution_count": null,
   "id": "8f29dd18",
   "metadata": {},
   "outputs": [],
   "source": []
  },
  {
   "cell_type": "code",
   "execution_count": 15,
   "id": "0d4276c1",
   "metadata": {},
   "outputs": [
    {
     "data": {
      "text/plain": [
       "<AxesSubplot:xlabel='Feature 1', ylabel='Feature 2'>"
      ]
     },
     "execution_count": 15,
     "metadata": {},
     "output_type": "execute_result"
    },
    {
     "data": {
      "image/png": "[encoded data removed]",
      "text/plain": [
       "<Figure size 432x288 with 2 Axes>"
      ]
     },
     "metadata": {
      "needs_background": "light"
     },
     "output_type": "display_data"
    }
   ],
   "source": [
    "from sklearn.datasets import make_moons\n",
    "\n",
    "# Creating dummy nonlinear data\n",
    "X_moons, y_moons = make_moons(n_samples=1000, noise=0.08, random_state=78)\n",
    "\n",
    "# Transforming y_moons to a vertical vector\n",
    "y_moons = y_moons.reshape(-1, 1)\n",
    "\n",
    "# Creating a DataFrame to plot the nonlinear dummy data\n",
    "df_moons = pd.DataFrame(X_moons, columns=[\"Feature 1\", \"Feature 2\"])\n",
    "df_moons[\"Target\"] = y_moons\n",
    "\n",
    "# Plot the nonlinear dummy data\n",
    "df_moons.plot.scatter(x=\"Feature 1\",y=\"Feature 2\", c=\"Target\",colormap=\"winter\")"
   ]
  },
  {
   "cell_type": "code",
   "execution_count": 16,
   "id": "4a0c7d90",
   "metadata": {},
   "outputs": [],
   "source": [
    "# Create training and testing sets\n",
    "X_moon_train, X_moon_test, y_moon_train, y_moon_test = train_test_split(\n",
    "    X_moons, y_moons, random_state=78\n",
    ")\n",
    "\n",
    "# Create the scaler instance\n",
    "X_moon_scaler = skl.preprocessing.StandardScaler()\n",
    "\n",
    "# Fit the scaler\n",
    "X_moon_scaler.fit(X_moon_train)\n",
    "\n",
    "# Scale the data\n",
    "X_moon_train_scaled = X_moon_scaler.transform(X_moon_train)\n",
    "X_moon_test_scaled = X_moon_scaler.transform(X_moon_test)"
   ]
  },
  {
   "cell_type": "code",
   "execution_count": 17,
   "id": "681b7420",
   "metadata": {},
   "outputs": [
    {
     "name": "stdout",
     "output_type": "stream",
     "text": [
      "Epoch 1/100\n",
      "24/24 [==============================] - 0s 1ms/step - loss: 1.1632 - accuracy: 0.4213\n",
      "Epoch 2/100\n",
      "24/24 [==============================] - 0s 1ms/step - loss: 1.0134 - accuracy: 0.4467\n",
      "Epoch 3/100\n",
      "24/24 [==============================] - 0s 1ms/step - loss: 0.9176 - accuracy: 0.4707\n",
      "Epoch 4/100\n",
      "24/24 [==============================] - 0s 1ms/step - loss: 0.8524 - accuracy: 0.4933\n",
      "Epoch 5/100\n",
      "24/24 [==============================] - 0s 1ms/step - loss: 0.8066 - accuracy: 0.5093\n",
      "Epoch 6/100\n",
      "24/24 [==============================] - 0s 1ms/step - loss: 0.7701 - accuracy: 0.5320\n",
      "Epoch 7/100\n",
      "24/24 [==============================] - 0s 1ms/step - loss: 0.7393 - accuracy: 0.5520\n",
      "Epoch 8/100\n",
      "24/24 [==============================] - 0s 1ms/step - loss: 0.7130 - accuracy: 0.5627\n",
      "Epoch 9/100\n",
      "24/24 [==============================] - 0s 1ms/step - loss: 0.6899 - accuracy: 0.5747\n",
      "Epoch 10/100\n",
      "24/24 [==============================] - 0s 1ms/step - loss: 0.6692 - accuracy: 0.5880\n",
      "Epoch 11/100\n",
      "24/24 [==============================] - 0s 1ms/step - loss: 0.6504 - accuracy: 0.5933\n",
      "Epoch 12/100\n",
      "24/24 [==============================] - 0s 1ms/step - loss: 0.6331 - accuracy: 0.5973\n",
      "Epoch 13/100\n",
      "24/24 [==============================] - 0s 1ms/step - loss: 0.6172 - accuracy: 0.6040\n",
      "Epoch 14/100\n",
      "24/24 [==============================] - 0s 1ms/step - loss: 0.6029 - accuracy: 0.6120\n",
      "Epoch 15/100\n",
      "24/24 [==============================] - 0s 1ms/step - loss: 0.5892 - accuracy: 0.6240\n",
      "Epoch 16/100\n",
      "24/24 [==============================] - 0s 1ms/step - loss: 0.5769 - accuracy: 0.6307\n",
      "Epoch 17/100\n",
      "24/24 [==============================] - 0s 1ms/step - loss: 0.5655 - accuracy: 0.6387\n",
      "Epoch 18/100\n",
      "24/24 [==============================] - 0s 1ms/step - loss: 0.5544 - accuracy: 0.6440\n",
      "Epoch 19/100\n",
      "24/24 [==============================] - 0s 1ms/step - loss: 0.5442 - accuracy: 0.6493\n",
      "Epoch 20/100\n",
      "24/24 [==============================] - 0s 1ms/step - loss: 0.5344 - accuracy: 0.6640\n",
      "Epoch 21/100\n",
      "24/24 [==============================] - 0s 1ms/step - loss: 0.5252 - accuracy: 0.6760\n",
      "Epoch 22/100\n",
      "24/24 [==============================] - 0s 1ms/step - loss: 0.5165 - accuracy: 0.6813\n",
      "Epoch 23/100\n",
      "24/24 [==============================] - 0s 1ms/step - loss: 0.5082 - accuracy: 0.6840\n",
      "Epoch 24/100\n",
      "24/24 [==============================] - 0s 1ms/step - loss: 0.5002 - accuracy: 0.6880\n",
      "Epoch 25/100\n",
      "24/24 [==============================] - 0s 1ms/step - loss: 0.4926 - accuracy: 0.6933\n",
      "Epoch 26/100\n",
      "24/24 [==============================] - 0s 1ms/step - loss: 0.4851 - accuracy: 0.6960\n",
      "Epoch 27/100\n",
      "24/24 [==============================] - 0s 1ms/step - loss: 0.4781 - accuracy: 0.7040\n",
      "Epoch 28/100\n",
      "24/24 [==============================] - 0s 1ms/step - loss: 0.4711 - accuracy: 0.7120\n",
      "Epoch 29/100\n",
      "24/24 [==============================] - 0s 1ms/step - loss: 0.4644 - accuracy: 0.7200\n",
      "Epoch 30/100\n",
      "24/24 [==============================] - 0s 1ms/step - loss: 0.4580 - accuracy: 0.7213\n",
      "Epoch 31/100\n",
      "24/24 [==============================] - 0s 1ms/step - loss: 0.4518 - accuracy: 0.7240\n",
      "Epoch 32/100\n",
      "24/24 [==============================] - 0s 1ms/step - loss: 0.4457 - accuracy: 0.7307\n",
      "Epoch 33/100\n",
      "24/24 [==============================] - 0s 1ms/step - loss: 0.4395 - accuracy: 0.7387\n",
      "Epoch 34/100\n",
      "24/24 [==============================] - 0s 1ms/step - loss: 0.4338 - accuracy: 0.7467\n",
      "Epoch 35/100\n",
      "24/24 [==============================] - 0s 1ms/step - loss: 0.4281 - accuracy: 0.7533\n",
      "Epoch 36/100\n",
      "24/24 [==============================] - 0s 1ms/step - loss: 0.4225 - accuracy: 0.7627\n",
      "Epoch 37/100\n",
      "24/24 [==============================] - 0s 1ms/step - loss: 0.4171 - accuracy: 0.7707\n",
      "Epoch 38/100\n",
      "24/24 [==============================] - 0s 1ms/step - loss: 0.4118 - accuracy: 0.7747\n",
      "Epoch 39/100\n",
      "24/24 [==============================] - 0s 1ms/step - loss: 0.4066 - accuracy: 0.7773\n",
      "Epoch 40/100\n",
      "24/24 [==============================] - 0s 1ms/step - loss: 0.4015 - accuracy: 0.7840\n",
      "Epoch 41/100\n",
      "24/24 [==============================] - 0s 1ms/step - loss: 0.3965 - accuracy: 0.7840\n",
      "Epoch 42/100\n",
      "24/24 [==============================] - 0s 1ms/step - loss: 0.3918 - accuracy: 0.7867\n",
      "Epoch 43/100\n",
      "24/24 [==============================] - 0s 1ms/step - loss: 0.3868 - accuracy: 0.7880\n",
      "Epoch 44/100\n",
      "24/24 [==============================] - 0s 1ms/step - loss: 0.3822 - accuracy: 0.7920\n",
      "Epoch 45/100\n",
      "24/24 [==============================] - 0s 1ms/step - loss: 0.3777 - accuracy: 0.7933\n",
      "Epoch 46/100\n",
      "24/24 [==============================] - 0s 1ms/step - loss: 0.3733 - accuracy: 0.7960\n",
      "Epoch 47/100\n",
      "24/24 [==============================] - 0s 1ms/step - loss: 0.3689 - accuracy: 0.8000\n",
      "Epoch 48/100\n",
      "24/24 [==============================] - 0s 1ms/step - loss: 0.3649 - accuracy: 0.8027\n",
      "Epoch 49/100\n",
      "24/24 [==============================] - 0s 1ms/step - loss: 0.3610 - accuracy: 0.8053\n",
      "Epoch 50/100\n",
      "24/24 [==============================] - 0s 1ms/step - loss: 0.3572 - accuracy: 0.8133\n",
      "Epoch 51/100\n",
      "24/24 [==============================] - 0s 1ms/step - loss: 0.3536 - accuracy: 0.8147\n",
      "Epoch 52/100\n",
      "24/24 [==============================] - 0s 1ms/step - loss: 0.3500 - accuracy: 0.8187\n",
      "Epoch 53/100\n",
      "24/24 [==============================] - 0s 1ms/step - loss: 0.3467 - accuracy: 0.8213\n",
      "Epoch 54/100\n",
      "24/24 [==============================] - 0s 1ms/step - loss: 0.3435 - accuracy: 0.8240\n",
      "Epoch 55/100\n",
      "24/24 [==============================] - 0s 1ms/step - loss: 0.3403 - accuracy: 0.8293\n",
      "Epoch 56/100\n",
      "24/24 [==============================] - 0s 1ms/step - loss: 0.3374 - accuracy: 0.8347\n",
      "Epoch 57/100\n",
      "24/24 [==============================] - 0s 1ms/step - loss: 0.3344 - accuracy: 0.8373\n",
      "Epoch 58/100\n",
      "24/24 [==============================] - 0s 1ms/step - loss: 0.3316 - accuracy: 0.8373\n",
      "Epoch 59/100\n",
      "24/24 [==============================] - 0s 1ms/step - loss: 0.3289 - accuracy: 0.8413\n",
      "Epoch 60/100\n",
      "24/24 [==============================] - 0s 1ms/step - loss: 0.3263 - accuracy: 0.8453\n",
      "Epoch 61/100\n",
      "24/24 [==============================] - 0s 1ms/step - loss: 0.3237 - accuracy: 0.8493\n",
      "Epoch 62/100\n",
      "24/24 [==============================] - 0s 1ms/step - loss: 0.3213 - accuracy: 0.8507\n",
      "Epoch 63/100\n",
      "24/24 [==============================] - 0s 1ms/step - loss: 0.3189 - accuracy: 0.8547\n",
      "Epoch 64/100\n",
      "24/24 [==============================] - 0s 1ms/step - loss: 0.3167 - accuracy: 0.8560\n",
      "Epoch 65/100\n",
      "24/24 [==============================] - 0s 1ms/step - loss: 0.3146 - accuracy: 0.8573\n",
      "Epoch 66/100\n",
      "24/24 [==============================] - 0s 1ms/step - loss: 0.3125 - accuracy: 0.8613\n",
      "Epoch 67/100\n",
      "24/24 [==============================] - 0s 1ms/step - loss: 0.3104 - accuracy: 0.8627\n",
      "Epoch 68/100\n",
      "24/24 [==============================] - 0s 1ms/step - loss: 0.3084 - accuracy: 0.8640\n",
      "Epoch 69/100\n",
      "24/24 [==============================] - 0s 1ms/step - loss: 0.3065 - accuracy: 0.8640\n",
      "Epoch 70/100\n",
      "24/24 [==============================] - 0s 1ms/step - loss: 0.3047 - accuracy: 0.8667\n",
      "Epoch 71/100\n",
      "24/24 [==============================] - 0s 1ms/step - loss: 0.3029 - accuracy: 0.8680\n",
      "Epoch 72/100\n",
      "24/24 [==============================] - 0s 1ms/step - loss: 0.3012 - accuracy: 0.8680\n",
      "Epoch 73/100\n",
      "24/24 [==============================] - 0s 1ms/step - loss: 0.2995 - accuracy: 0.8680\n",
      "Epoch 74/100\n",
      "24/24 [==============================] - 0s 1ms/step - loss: 0.2979 - accuracy: 0.8693\n",
      "Epoch 75/100\n",
      "24/24 [==============================] - 0s 1ms/step - loss: 0.2964 - accuracy: 0.8693\n",
      "Epoch 76/100\n",
      "24/24 [==============================] - 0s 1ms/step - loss: 0.2949 - accuracy: 0.8693\n",
      "Epoch 77/100\n",
      "24/24 [==============================] - 0s 1ms/step - loss: 0.2934 - accuracy: 0.8707\n",
      "Epoch 78/100\n",
      "24/24 [==============================] - 0s 1ms/step - loss: 0.2921 - accuracy: 0.8707\n",
      "Epoch 79/100\n",
      "24/24 [==============================] - 0s 1ms/step - loss: 0.2908 - accuracy: 0.8707\n",
      "Epoch 80/100\n",
      "24/24 [==============================] - 0s 1ms/step - loss: 0.2896 - accuracy: 0.8720\n",
      "Epoch 81/100\n",
      "24/24 [==============================] - 0s 1ms/step - loss: 0.2882 - accuracy: 0.8733\n",
      "Epoch 82/100\n",
      "24/24 [==============================] - 0s 1ms/step - loss: 0.2871 - accuracy: 0.8733\n",
      "Epoch 83/100\n"
     ]
    },
    {
     "name": "stdout",
     "output_type": "stream",
     "text": [
      "24/24 [==============================] - 0s 1ms/step - loss: 0.2860 - accuracy: 0.8733\n",
      "Epoch 84/100\n",
      "24/24 [==============================] - 0s 1ms/step - loss: 0.2850 - accuracy: 0.8733\n",
      "Epoch 85/100\n",
      "24/24 [==============================] - 0s 1ms/step - loss: 0.2839 - accuracy: 0.8733\n",
      "Epoch 86/100\n",
      "24/24 [==============================] - 0s 1ms/step - loss: 0.2829 - accuracy: 0.8733\n",
      "Epoch 87/100\n",
      "24/24 [==============================] - 0s 1ms/step - loss: 0.2818 - accuracy: 0.8733\n",
      "Epoch 88/100\n",
      "24/24 [==============================] - 0s 1ms/step - loss: 0.2809 - accuracy: 0.8747\n",
      "Epoch 89/100\n",
      "24/24 [==============================] - 0s 1ms/step - loss: 0.2800 - accuracy: 0.8747\n",
      "Epoch 90/100\n",
      "24/24 [==============================] - 0s 1ms/step - loss: 0.2791 - accuracy: 0.8773\n",
      "Epoch 91/100\n",
      "24/24 [==============================] - 0s 1ms/step - loss: 0.2782 - accuracy: 0.8800\n",
      "Epoch 92/100\n",
      "24/24 [==============================] - 0s 1ms/step - loss: 0.2775 - accuracy: 0.8800\n",
      "Epoch 93/100\n",
      "24/24 [==============================] - 0s 1ms/step - loss: 0.2766 - accuracy: 0.8813\n",
      "Epoch 94/100\n",
      "24/24 [==============================] - 0s 1ms/step - loss: 0.2759 - accuracy: 0.8827\n",
      "Epoch 95/100\n",
      "24/24 [==============================] - 0s 1ms/step - loss: 0.2752 - accuracy: 0.8827\n",
      "Epoch 96/100\n",
      "24/24 [==============================] - 0s 1ms/step - loss: 0.2744 - accuracy: 0.8840\n",
      "Epoch 97/100\n",
      "24/24 [==============================] - 0s 1ms/step - loss: 0.2738 - accuracy: 0.8853\n",
      "Epoch 98/100\n",
      "24/24 [==============================] - 0s 1ms/step - loss: 0.2731 - accuracy: 0.8880\n",
      "Epoch 99/100\n",
      "24/24 [==============================] - 0s 1ms/step - loss: 0.2723 - accuracy: 0.8880\n",
      "Epoch 100/100\n",
      "24/24 [==============================] - 0s 1ms/step - loss: 0.2717 - accuracy: 0.8880\n"
     ]
    }
   ],
   "source": [
    "# Training the model with the nonlinear data\n",
    "model_moon = nn_model.fit(X_moon_train_scaled, y_moon_train, epochs=100, shuffle=True)"
   ]
  },
  {
   "cell_type": "code",
   "execution_count": 18,
   "id": "1a9ecd79",
   "metadata": {},
   "outputs": [
    {
     "data": {
      "text/plain": [
       "<AxesSubplot:>"
      ]
     },
     "execution_count": 18,
     "metadata": {},
     "output_type": "execute_result"
    },
    {
     "data": {
      "image/png": "[encoded data removed]",
      "text/plain": [
       "<Figure size 432x288 with 1 Axes>"
      ]
     },
     "metadata": {
      "needs_background": "light"
     },
     "output_type": "display_data"
    }
   ],
   "source": [
    "# Create a DataFrame containing training history\n",
    "history_df = pd.DataFrame(model_moon.history, index=range(1,len(model_moon.history[\"loss\"])+1))\n",
    "\n",
    "# Plot the loss\n",
    "history_df.plot(y=\"loss\")"
   ]
  },
  {
   "cell_type": "code",
   "execution_count": 19,
   "id": "d394ea52",
   "metadata": {},
   "outputs": [
    {
     "data": {
      "text/plain": [
       "<AxesSubplot:>"
      ]
     },
     "execution_count": 19,
     "metadata": {},
     "output_type": "execute_result"
    },
    {
     "data": {
      "image/png": "[encoded data removed]",
      "text/plain": [
       "<Figure size 432x288 with 1 Axes>"
      ]
     },
     "metadata": {
      "needs_background": "light"
     },
     "output_type": "display_data"
    }
   ],
   "source": [
    "# Plot the accuracy\n",
    "history_df.plot(y=\"accuracy\")"
   ]
  },
  {
   "cell_type": "code",
   "execution_count": null,
   "id": "4dfad4fd",
   "metadata": {},
   "outputs": [],
   "source": []
  },
  {
   "cell_type": "code",
   "execution_count": null,
   "id": "a3afd5c3",
   "metadata": {},
   "outputs": [],
   "source": []
  },
  {
   "cell_type": "code",
   "execution_count": 20,
   "id": "f8604841",
   "metadata": {},
   "outputs": [],
   "source": [
    "# Generate our new Sequential model\n",
    "new_model = tf.keras.models.Sequential()"
   ]
  },
  {
   "cell_type": "code",
   "execution_count": 21,
   "id": "897cc04f",
   "metadata": {},
   "outputs": [],
   "source": [
    "# Add the input and hidden layer\n",
    "number_inputs = 2\n",
    "number_hidden_nodes = 6\n",
    "\n",
    "new_model.add(tf.keras.layers.Dense(units=number_hidden_nodes, activation=\"relu\", input_dim=number_inputs))\n",
    "\n",
    "# Add the output layer that uses a probability activation function\n",
    "new_model.add(tf.keras.layers.Dense(units=1, activation=\"sigmoid\"))"
   ]
  },
  {
   "cell_type": "code",
   "execution_count": 22,
   "id": "69646066",
   "metadata": {},
   "outputs": [
    {
     "name": "stdout",
     "output_type": "stream",
     "text": [
      "Epoch 1/100\n",
      "24/24 [==============================] - 0s 944us/step - loss: 0.5446 - accuracy: 0.7347\n",
      "Epoch 2/100\n",
      "24/24 [==============================] - 0s 743us/step - loss: 0.5192 - accuracy: 0.7693\n",
      "Epoch 3/100\n",
      "24/24 [==============================] - 0s 733us/step - loss: 0.4957 - accuracy: 0.8733\n",
      "Epoch 4/100\n",
      "24/24 [==============================] - 0s 728us/step - loss: 0.4744 - accuracy: 0.8787\n",
      "Epoch 5/100\n",
      "24/24 [==============================] - 0s 739us/step - loss: 0.4549 - accuracy: 0.8813\n",
      "Epoch 6/100\n",
      "24/24 [==============================] - 0s 754us/step - loss: 0.4371 - accuracy: 0.8840\n",
      "Epoch 7/100\n",
      "24/24 [==============================] - 0s 751us/step - loss: 0.4209 - accuracy: 0.8840\n",
      "Epoch 8/100\n",
      "24/24 [==============================] - 0s 755us/step - loss: 0.4058 - accuracy: 0.8853\n",
      "Epoch 9/100\n",
      "24/24 [==============================] - 0s 757us/step - loss: 0.3918 - accuracy: 0.8853\n",
      "Epoch 10/100\n",
      "24/24 [==============================] - 0s 751us/step - loss: 0.3790 - accuracy: 0.8853\n",
      "Epoch 11/100\n",
      "24/24 [==============================] - 0s 740us/step - loss: 0.3671 - accuracy: 0.8867\n",
      "Epoch 12/100\n",
      "24/24 [==============================] - 0s 772us/step - loss: 0.3561 - accuracy: 0.8867\n",
      "Epoch 13/100\n",
      "24/24 [==============================] - 0s 752us/step - loss: 0.3457 - accuracy: 0.8893\n",
      "Epoch 14/100\n",
      "24/24 [==============================] - 0s 739us/step - loss: 0.3360 - accuracy: 0.8893\n",
      "Epoch 15/100\n",
      "24/24 [==============================] - 0s 765us/step - loss: 0.3272 - accuracy: 0.8907\n",
      "Epoch 16/100\n",
      "24/24 [==============================] - 0s 785us/step - loss: 0.3194 - accuracy: 0.8933\n",
      "Epoch 17/100\n",
      "24/24 [==============================] - 0s 769us/step - loss: 0.3118 - accuracy: 0.8933\n",
      "Epoch 18/100\n",
      "24/24 [==============================] - 0s 744us/step - loss: 0.3049 - accuracy: 0.8973\n",
      "Epoch 19/100\n",
      "24/24 [==============================] - 0s 740us/step - loss: 0.2987 - accuracy: 0.8973\n",
      "Epoch 20/100\n",
      "24/24 [==============================] - 0s 768us/step - loss: 0.2930 - accuracy: 0.9000\n",
      "Epoch 21/100\n",
      "24/24 [==============================] - 0s 774us/step - loss: 0.2877 - accuracy: 0.8987\n",
      "Epoch 22/100\n",
      "24/24 [==============================] - 0s 780us/step - loss: 0.2830 - accuracy: 0.8987\n",
      "Epoch 23/100\n",
      "24/24 [==============================] - 0s 731us/step - loss: 0.2787 - accuracy: 0.8973\n",
      "Epoch 24/100\n",
      "24/24 [==============================] - 0s 754us/step - loss: 0.2746 - accuracy: 0.8973\n",
      "Epoch 25/100\n",
      "24/24 [==============================] - 0s 710us/step - loss: 0.2708 - accuracy: 0.8987\n",
      "Epoch 26/100\n",
      "24/24 [==============================] - 0s 744us/step - loss: 0.2674 - accuracy: 0.9000\n",
      "Epoch 27/100\n",
      "24/24 [==============================] - 0s 709us/step - loss: 0.2643 - accuracy: 0.9000\n",
      "Epoch 28/100\n",
      "24/24 [==============================] - 0s 724us/step - loss: 0.2615 - accuracy: 0.9000\n",
      "Epoch 29/100\n",
      "24/24 [==============================] - 0s 732us/step - loss: 0.2587 - accuracy: 0.9013\n",
      "Epoch 30/100\n",
      "24/24 [==============================] - 0s 718us/step - loss: 0.2564 - accuracy: 0.9013\n",
      "Epoch 31/100\n",
      "24/24 [==============================] - 0s 770us/step - loss: 0.2541 - accuracy: 0.9027\n",
      "Epoch 32/100\n",
      "24/24 [==============================] - 0s 758us/step - loss: 0.2520 - accuracy: 0.9027\n",
      "Epoch 33/100\n",
      "24/24 [==============================] - 0s 758us/step - loss: 0.2502 - accuracy: 0.9027\n",
      "Epoch 34/100\n",
      "24/24 [==============================] - 0s 796us/step - loss: 0.2484 - accuracy: 0.9027\n",
      "Epoch 35/100\n",
      "24/24 [==============================] - 0s 744us/step - loss: 0.2467 - accuracy: 0.9027\n",
      "Epoch 36/100\n",
      "24/24 [==============================] - 0s 761us/step - loss: 0.2451 - accuracy: 0.9027\n",
      "Epoch 37/100\n",
      "24/24 [==============================] - 0s 775us/step - loss: 0.2435 - accuracy: 0.9027\n",
      "Epoch 38/100\n",
      "24/24 [==============================] - 0s 752us/step - loss: 0.2421 - accuracy: 0.9027\n",
      "Epoch 39/100\n",
      "24/24 [==============================] - 0s 759us/step - loss: 0.2407 - accuracy: 0.9027\n",
      "Epoch 40/100\n",
      "24/24 [==============================] - 0s 786us/step - loss: 0.2393 - accuracy: 0.9040\n",
      "Epoch 41/100\n",
      "24/24 [==============================] - 0s 784us/step - loss: 0.2380 - accuracy: 0.9040\n",
      "Epoch 42/100\n",
      "24/24 [==============================] - 0s 792us/step - loss: 0.2368 - accuracy: 0.9040\n",
      "Epoch 43/100\n",
      "24/24 [==============================] - 0s 759us/step - loss: 0.2355 - accuracy: 0.9040\n",
      "Epoch 44/100\n",
      "24/24 [==============================] - 0s 765us/step - loss: 0.2344 - accuracy: 0.9040\n",
      "Epoch 45/100\n",
      "24/24 [==============================] - 0s 749us/step - loss: 0.2332 - accuracy: 0.9040\n",
      "Epoch 46/100\n",
      "24/24 [==============================] - 0s 752us/step - loss: 0.2320 - accuracy: 0.9040\n",
      "Epoch 47/100\n",
      "24/24 [==============================] - 0s 788us/step - loss: 0.2309 - accuracy: 0.9053\n",
      "Epoch 48/100\n",
      "24/24 [==============================] - 0s 777us/step - loss: 0.2298 - accuracy: 0.9053\n",
      "Epoch 49/100\n",
      "24/24 [==============================] - 0s 768us/step - loss: 0.2286 - accuracy: 0.9053\n",
      "Epoch 50/100\n",
      "24/24 [==============================] - 0s 772us/step - loss: 0.2275 - accuracy: 0.9053\n",
      "Epoch 51/100\n",
      "24/24 [==============================] - 0s 763us/step - loss: 0.2265 - accuracy: 0.9053\n",
      "Epoch 52/100\n",
      "24/24 [==============================] - 0s 763us/step - loss: 0.2252 - accuracy: 0.9067\n",
      "Epoch 53/100\n",
      "24/24 [==============================] - 0s 760us/step - loss: 0.2242 - accuracy: 0.9067\n",
      "Epoch 54/100\n",
      "24/24 [==============================] - 0s 761us/step - loss: 0.2232 - accuracy: 0.9067\n",
      "Epoch 55/100\n",
      "24/24 [==============================] - 0s 771us/step - loss: 0.2219 - accuracy: 0.9067\n",
      "Epoch 56/100\n",
      "24/24 [==============================] - 0s 737us/step - loss: 0.2208 - accuracy: 0.9067\n",
      "Epoch 57/100\n",
      "24/24 [==============================] - 0s 747us/step - loss: 0.2198 - accuracy: 0.9107\n",
      "Epoch 58/100\n",
      "24/24 [==============================] - 0s 742us/step - loss: 0.2186 - accuracy: 0.9107\n",
      "Epoch 59/100\n",
      "24/24 [==============================] - 0s 745us/step - loss: 0.2175 - accuracy: 0.9107\n",
      "Epoch 60/100\n",
      "24/24 [==============================] - 0s 749us/step - loss: 0.2163 - accuracy: 0.9107\n",
      "Epoch 61/100\n",
      "24/24 [==============================] - 0s 738us/step - loss: 0.2151 - accuracy: 0.9107\n",
      "Epoch 62/100\n",
      "24/24 [==============================] - 0s 744us/step - loss: 0.2140 - accuracy: 0.9107\n",
      "Epoch 63/100\n",
      "24/24 [==============================] - 0s 738us/step - loss: 0.2128 - accuracy: 0.9107\n",
      "Epoch 64/100\n",
      "24/24 [==============================] - 0s 769us/step - loss: 0.2116 - accuracy: 0.9120\n",
      "Epoch 65/100\n",
      "24/24 [==============================] - 0s 781us/step - loss: 0.2103 - accuracy: 0.9133\n",
      "Epoch 66/100\n",
      "24/24 [==============================] - 0s 778us/step - loss: 0.2090 - accuracy: 0.9133\n",
      "Epoch 67/100\n",
      "24/24 [==============================] - 0s 741us/step - loss: 0.2078 - accuracy: 0.9147\n",
      "Epoch 68/100\n",
      "24/24 [==============================] - 0s 728us/step - loss: 0.2065 - accuracy: 0.9147\n",
      "Epoch 69/100\n",
      "24/24 [==============================] - 0s 724us/step - loss: 0.2054 - accuracy: 0.9147\n",
      "Epoch 70/100\n",
      "24/24 [==============================] - 0s 756us/step - loss: 0.2039 - accuracy: 0.9160\n",
      "Epoch 71/100\n",
      "24/24 [==============================] - 0s 720us/step - loss: 0.2027 - accuracy: 0.9160\n",
      "Epoch 72/100\n",
      "24/24 [==============================] - 0s 727us/step - loss: 0.2013 - accuracy: 0.9160\n",
      "Epoch 73/100\n",
      "24/24 [==============================] - 0s 718us/step - loss: 0.1999 - accuracy: 0.9160\n",
      "Epoch 74/100\n",
      "24/24 [==============================] - 0s 818us/step - loss: 0.1986 - accuracy: 0.9160\n",
      "Epoch 75/100\n",
      "24/24 [==============================] - 0s 766us/step - loss: 0.1973 - accuracy: 0.9160\n",
      "Epoch 76/100\n",
      "24/24 [==============================] - 0s 765us/step - loss: 0.1959 - accuracy: 0.9160\n",
      "Epoch 77/100\n",
      "24/24 [==============================] - 0s 740us/step - loss: 0.1946 - accuracy: 0.9160\n",
      "Epoch 78/100\n",
      "24/24 [==============================] - 0s 754us/step - loss: 0.1932 - accuracy: 0.9160\n",
      "Epoch 79/100\n",
      "24/24 [==============================] - 0s 753us/step - loss: 0.1917 - accuracy: 0.9160\n",
      "Epoch 80/100\n",
      "24/24 [==============================] - 0s 776us/step - loss: 0.1903 - accuracy: 0.9160\n",
      "Epoch 81/100\n",
      "24/24 [==============================] - 0s 751us/step - loss: 0.1887 - accuracy: 0.9187\n",
      "Epoch 82/100\n",
      "24/24 [==============================] - 0s 751us/step - loss: 0.1873 - accuracy: 0.9187\n",
      "Epoch 83/100\n",
      "24/24 [==============================] - 0s 754us/step - loss: 0.1858 - accuracy: 0.9187\n",
      "Epoch 84/100\n",
      "24/24 [==============================] - 0s 768us/step - loss: 0.1843 - accuracy: 0.9213\n",
      "Epoch 85/100\n",
      "24/24 [==============================] - 0s 747us/step - loss: 0.1828 - accuracy: 0.9213\n",
      "Epoch 86/100\n",
      "24/24 [==============================] - 0s 737us/step - loss: 0.1813 - accuracy: 0.9213\n",
      "Epoch 87/100\n",
      "24/24 [==============================] - 0s 748us/step - loss: 0.1798 - accuracy: 0.9213\n",
      "Epoch 88/100\n",
      "24/24 [==============================] - 0s 751us/step - loss: 0.1781 - accuracy: 0.9227\n",
      "Epoch 89/100\n",
      "24/24 [==============================] - 0s 723us/step - loss: 0.1764 - accuracy: 0.9240\n",
      "Epoch 90/100\n",
      "24/24 [==============================] - 0s 703us/step - loss: 0.1749 - accuracy: 0.9240\n",
      "Epoch 91/100\n",
      "24/24 [==============================] - 0s 730us/step - loss: 0.1732 - accuracy: 0.9267\n",
      "Epoch 92/100\n",
      "24/24 [==============================] - 0s 773us/step - loss: 0.1716 - accuracy: 0.9267\n",
      "Epoch 93/100\n",
      "24/24 [==============================] - 0s 743us/step - loss: 0.1700 - accuracy: 0.9280\n",
      "Epoch 94/100\n",
      "24/24 [==============================] - 0s 728us/step - loss: 0.1683 - accuracy: 0.9280\n",
      "Epoch 95/100\n",
      "24/24 [==============================] - 0s 697us/step - loss: 0.1667 - accuracy: 0.9293\n",
      "Epoch 96/100\n",
      "24/24 [==============================] - 0s 715us/step - loss: 0.1651 - accuracy: 0.9293\n",
      "Epoch 97/100\n",
      "24/24 [==============================] - 0s 709us/step - loss: 0.1634 - accuracy: 0.9293\n",
      "Epoch 98/100\n",
      "24/24 [==============================] - 0s 722us/step - loss: 0.1618 - accuracy: 0.9293\n",
      "Epoch 99/100\n",
      "24/24 [==============================] - 0s 746us/step - loss: 0.1601 - accuracy: 0.9307\n",
      "Epoch 100/100\n",
      "24/24 [==============================] - 0s 755us/step - loss: 0.1584 - accuracy: 0.9307\n"
     ]
    }
   ],
   "source": [
    "# Compile the Sequential model together and customize metrics\n",
    "new_model.compile(loss=\"binary_crossentropy\", optimizer=\"adam\", metrics=[\"accuracy\"])\n",
    "\n",
    "# Fit the model to the training data\n",
    "new_fit_model = new_model.fit(X_moon_train_scaled, y_moon_train, epochs=100, shuffle=True)"
   ]
  },
  {
   "cell_type": "code",
   "execution_count": null,
   "id": "1e46d10d",
   "metadata": {},
   "outputs": [],
   "source": []
  }
 ],
 "metadata": {
  "kernelspec": {
   "display_name": "mlenv",
   "language": "python",
   "name": "mlenv"
  },
  "language_info": {
   "codemirror_mode": {
    "name": "ipython",
    "version": 3
   },
   "file_extension": ".py",
   "mimetype": "text/x-python",
   "name": "python",
   "nbconvert_exporter": "python",
   "pygments_lexer": "ipython3",
   "version": "3.7.11"
  }
 },
 "nbformat": 4,
 "nbformat_minor": 5
}
